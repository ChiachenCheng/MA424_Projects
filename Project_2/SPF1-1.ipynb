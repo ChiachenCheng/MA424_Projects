{
 "cells": [
  {
   "cell_type": "code",
   "execution_count": 1,
   "metadata": {},
   "outputs": [],
   "source": [
    "set.seed(1)"
   ]
  },
  {
   "cell_type": "code",
   "execution_count": 2,
   "metadata": {},
   "outputs": [],
   "source": [
    "K = 500\n",
    "lbd = 8\n",
    "mu_f = 6\n",
    "mu_c = 5 \n",
    "mu_w = 4\n",
    "p = 0.5\n",
    "q = 0.6\n",
    "r = 0.4\n",
    "T = 8"
   ]
  },
  {
   "cell_type": "code",
   "execution_count": 3,
   "metadata": {},
   "outputs": [],
   "source": [
    "# generating an exponetial distribution variable\n",
    "exponetial = function(i){\n",
    "    U = runif(1)\n",
    "    return(-1.0/i*log(U))\n",
    "}"
   ]
  },
  {
   "cell_type": "code",
   "execution_count": 4,
   "metadata": {},
   "outputs": [],
   "source": [
    "# this function will return 1 in p probability and 0 in (1-p) probability\n",
    "# using this function to simplify the code\n",
    "random_choice = function(p){\n",
    "    U = runif(1)\n",
    "    if (U < p){\n",
    "        return(1)\n",
    "    }\n",
    "    return(0)\n",
    "}"
   ]
  },
  {
   "cell_type": "code",
   "execution_count": 5,
   "metadata": {},
   "outputs": [],
   "source": [
    "# this function is used to check if the queue is empty\n",
    "empty_queue = function(queue){\n",
    "    if (length(queue) == 0){\n",
    "        return(1)\n",
    "    }\n",
    "    return(0)\n",
    "}"
   ]
  },
  {
   "cell_type": "code",
   "execution_count": 6,
   "metadata": {},
   "outputs": [],
   "source": [
    "simulation = function(){\n",
    "    ta <- c() # the time spent by an applicant in the SPF offices\n",
    "    tc <- c()\n",
    "    tr <- c()\n",
    "    k = 0\n",
    "    while (k < K){\n",
    "        k = k + 1 \n",
    "        q_sf <- c()\n",
    "        q_sc <- c()\n",
    "        q_sw <- c()\n",
    "        t4 <- t3 <- t2 <- Inf # tx = infinity means the queue is empty\n",
    "        t <- t1 <- exponetial(lbd)\n",
    "        while (t < T || !empty_queue(q_sf) || !empty_queue(q_sc) || !empty_queue(q_sw)){\n",
    "#             print('case 1')\n",
    "            if (t == t1){ # Case 1: new customer enters\n",
    "                if (t1 > T){ # if the office is closed, then no customer should enter the office\n",
    "                    t1 = Inf\n",
    "                } else { # the office is opening\n",
    "                    if (random_choice(p)){ # enqueue Sf\n",
    "                        if (empty_queue(q_sf)){\n",
    "                            t2 = t + exponetial(mu_f)\n",
    "                        }\n",
    "                        q_sf = append(q_sf, t1) \n",
    "                    } else { # enqueue Sc\n",
    "                        if (empty_queue(q_sc)){\n",
    "                            t3 = t + exponetial(mu_c)\n",
    "                        }\n",
    "                        q_sc = append(q_sc, t1) \n",
    "                    }\n",
    "                    t1 = t1 + exponetial(lbd) # calculate the next customer's arrival time \n",
    "                }\n",
    "            } else if (t == t2){ # Case 2: Sf completed one customer and ready to serve next one\n",
    "#                 print('case 2')\n",
    "                c = q_sf[1] # dequeue Sf\n",
    "                q_sf = q_sf[-1] \n",
    "                tot_time = t - c # calculate the time the completed customer spent\n",
    "                ta = c(ta, tot_time)\n",
    "                tc = c(tc, tot_time)\n",
    "                if (!empty_queue(q_sf)){\n",
    "                    t2 = t2 + exponetial(mu_f) # calculate the time that next customer complete\n",
    "                } else {\n",
    "                    t2 = Inf # this means Sf is empty\n",
    "                }\n",
    "            } else if (t == t3){ # Case 3: Sc completed one customer and ready to serve next one\n",
    "#                 print('case 3')\n",
    "                c = q_sc[1] # dequeue Sc\n",
    "                q_sc = q_sc[-1]\n",
    "                if (random_choice(q)){ # enqueue Sf\n",
    "                    if (empty_queue(q_sf)){ \n",
    "                        t2 = t + exponetial(mu_f)\n",
    "                    }\n",
    "                    q_sf = append(q_sf, c) \n",
    "                } else { # enqueue Sw\n",
    "                    if (empty_queue(q_sw)){\n",
    "                        t4 = t + exponetial(mu_w)\n",
    "                    }\n",
    "                    q_sw = append(q_sw, c) \n",
    "                }\n",
    "                if (!empty_queue(q_sc)){ \n",
    "                    t3 = t3 + exponetial(mu_c); # calculate the time that next customer complete\n",
    "                } else {\n",
    "                    t3 = Inf # this means Sc is empty\n",
    "                }\n",
    "            } else if (t == t4){ # Case 4: Sw completed one customer and ready to serve next one\n",
    "#                 print('case 4')\n",
    "                c = q_sw[1] # dequeue Sw\n",
    "                q_sw = q_sw[-1] \n",
    "                if (random_choice(r)){ # enqueue Sf\n",
    "                    if (empty_queue(q_sf)){\n",
    "                        t2 = t + exponetial(mu_f)\n",
    "                    }\n",
    "                    q_sf = append(q_sf, c) \n",
    "                } else { # calculate the time the refused customer spent\n",
    "                    tot_time = t - c\n",
    "                    ta = c(ta, tot_time)\n",
    "                    tr = c(tr, tot_time)\n",
    "                }\n",
    "                if (!empty_queue(q_sw)){\n",
    "                    t4 = t4 + exponetial(mu_w); # calculate the time that next customer complete\n",
    "                } else {\n",
    "                    t4 = Inf # this means Sw is empty\n",
    "                }\n",
    "            } else {\n",
    "                print(\"ERROR!\")\n",
    "            }\n",
    "            t = min(t1,t2,t3,t4)\n",
    "        }\n",
    "    }\n",
    "#     print(ta)\n",
    "#     print(tc)\n",
    "#     print(tr)\n",
    "    print(paste(\"Average time applicants spend in the office = \", mean(ta)))\n",
    "    print(paste(\"Average time completed applicants spend in the office = \", mean(tc)))\n",
    "    print(paste(\"Average time refused applicants spend in the office = \", mean(tr)))\n",
    "    print(paste(\"Complete rate = \", length(tc)/length(ta)))\n",
    "    print(paste(\"reject rate = \", length(tr)/length(ta)))\n",
    "}"
   ]
  },
  {
   "cell_type": "code",
   "execution_count": 7,
   "metadata": {},
   "outputs": [
    {
     "name": "stdout",
     "output_type": "stream",
     "text": [
      "[1] \"Average time applicants spend in the office =  1.49706935136127\"\n",
      "[1] \"Average time completed applicants spend in the office =  1.55770121900255\"\n",
      "[1] \"Average time refused applicants spend in the office =  1.05244094606408\"\n",
      "[1] \"Complete rate =  0.87999874344234\"\n",
      "[1] \"reject rate =  0.12000125655766\"\n"
     ]
    }
   ],
   "source": [
    "simulation()"
   ]
  },
  {
   "cell_type": "code",
   "execution_count": null,
   "metadata": {},
   "outputs": [],
   "source": []
  }
 ],
 "metadata": {
  "kernelspec": {
   "display_name": "R",
   "language": "R",
   "name": "kernelspec"
  },
  "language_info": {
   "codemirror_mode": "r",
   "file_extension": ".r",
   "mimetype": "text/x-r-source",
   "name": "R",
   "pygments_lexer": "r",
   "version": "4.2.1"
  }
 },
 "nbformat": 4,
 "nbformat_minor": 4
}
